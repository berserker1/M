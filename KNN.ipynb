{
  "nbformat": 4,
  "nbformat_minor": 0,
  "metadata": {
    "colab": {
      "name": "KNN.ipynb",
      "version": "0.3.2",
      "provenance": [],
      "collapsed_sections": [],
      "include_colab_link": true
    },
    "kernelspec": {
      "name": "python3",
      "display_name": "Python 3"
    }
  },
  "cells": [
    {
      "cell_type": "markdown",
      "metadata": {
        "id": "view-in-github",
        "colab_type": "text"
      },
      "source": [
        "[![Open In Colab](https://colab.research.google.com/assets/colab-badge.svg)](https://colab.research.google.com/github/berserker1/M/blob/master/KNN.ipynb)"
      ]
    },
    {
      "metadata": {
        "id": "kNASABiem-36",
        "colab_type": "code",
        "colab": {}
      },
      "cell_type": "code",
      "source": [
        "url = \"https://archive.ics.uci.edu/ml/machine-learning-databases/iris/iris.data\"\n",
        "names=['sepal-length','sepal-width','petal-length','petal-width','Class']\n",
        "dataset=pd.read_csv(url,names=names)"
      ],
      "execution_count": 0,
      "outputs": []
    },
    {
      "metadata": {
        "id": "egLVU11Ca9Uj",
        "colab_type": "code",
        "colab": {}
      },
      "cell_type": "code",
      "source": [
        "import pandas as pd\n",
        "import numpy as np\n",
        "import matplotlib.pyplot as plt\n",
        "from sklearn.model_selection import train_test_split\n",
        "from sklearn.preprocessing import StandardScaler\n",
        "from sklearn.neighbors import KNeighborsClassifier\n",
        "from sklearn.metrics import classification_report, confusion_matrix"
      ],
      "execution_count": 0,
      "outputs": []
    },
    {
      "metadata": {
        "id": "TzhFC8wknbYy",
        "colab_type": "code",
        "colab": {}
      },
      "cell_type": "code",
      "source": [
        "param=dataset.iloc[:,0:4].values"
      ],
      "execution_count": 0,
      "outputs": []
    },
    {
      "metadata": {
        "id": "9vZxieK4pAUu",
        "colab_type": "code",
        "colab": {}
      },
      "cell_type": "code",
      "source": [
        "labels=dataset.iloc[:,4:5].values"
      ],
      "execution_count": 0,
      "outputs": []
    },
    {
      "metadata": {
        "id": "Pl7UJcXoslSJ",
        "colab_type": "code",
        "colab": {}
      },
      "cell_type": "code",
      "source": [
        "x_train,x_test,y_train,y_test=train_test_split(param,labels,test_size=0.2)"
      ],
      "execution_count": 0,
      "outputs": []
    },
    {
      "metadata": {
        "id": "T2K87MzCxRj6",
        "colab_type": "code",
        "colab": {}
      },
      "cell_type": "code",
      "source": [
        "scalar=StandardScaler()"
      ],
      "execution_count": 0,
      "outputs": []
    },
    {
      "metadata": {
        "id": "vi-1jayotMXX",
        "colab_type": "code",
        "colab": {
          "base_uri": "https://localhost:8080/",
          "height": 34
        },
        "outputId": "64d9fa0b-840d-48aa-99fc-fa282310bda5"
      },
      "cell_type": "code",
      "source": [
        "scalar.fit(x_train)"
      ],
      "execution_count": 122,
      "outputs": [
        {
          "output_type": "execute_result",
          "data": {
            "text/plain": [
              "StandardScaler(copy=True, with_mean=True, with_std=True)"
            ]
          },
          "metadata": {
            "tags": []
          },
          "execution_count": 122
        }
      ]
    },
    {
      "metadata": {
        "id": "Ttrm3bw6xN1_",
        "colab_type": "code",
        "colab": {}
      },
      "cell_type": "code",
      "source": [
        "x_train=scalar.transform(x_train)"
      ],
      "execution_count": 0,
      "outputs": []
    },
    {
      "metadata": {
        "id": "pEg2Zg8Sxc-m",
        "colab_type": "code",
        "colab": {}
      },
      "cell_type": "code",
      "source": [
        "x_test=scalar.transform(x_test)"
      ],
      "execution_count": 0,
      "outputs": []
    },
    {
      "metadata": {
        "id": "QoPXSoTOxf4X",
        "colab_type": "code",
        "colab": {}
      },
      "cell_type": "code",
      "source": [
        "classifier=KNeighborsClassifier(n_neighbors=5)"
      ],
      "execution_count": 0,
      "outputs": []
    },
    {
      "metadata": {
        "id": "EGTA-i7py0a4",
        "colab_type": "code",
        "colab": {
          "base_uri": "https://localhost:8080/",
          "height": 67
        },
        "outputId": "9a0bd7cf-1547-4f75-cbf1-5717c9ce0855"
      },
      "cell_type": "code",
      "source": [
        "classifier.fit(x_train,y_train.ravel())"
      ],
      "execution_count": 126,
      "outputs": [
        {
          "output_type": "execute_result",
          "data": {
            "text/plain": [
              "KNeighborsClassifier(algorithm='auto', leaf_size=30, metric='minkowski',\n",
              "           metric_params=None, n_jobs=1, n_neighbors=5, p=2,\n",
              "           weights='uniform')"
            ]
          },
          "metadata": {
            "tags": []
          },
          "execution_count": 126
        }
      ]
    },
    {
      "metadata": {
        "id": "JnAYEK0Nx7iy",
        "colab_type": "code",
        "colab": {}
      },
      "cell_type": "code",
      "source": [
        "y_pred=classifier.predict(x_test)"
      ],
      "execution_count": 0,
      "outputs": []
    },
    {
      "metadata": {
        "id": "0WKWTyR8yEQp",
        "colab_type": "code",
        "colab": {
          "base_uri": "https://localhost:8080/",
          "height": 67
        },
        "outputId": "7d6d1ef9-6036-4481-98e1-862c7f9ac7dc"
      },
      "cell_type": "code",
      "source": [
        "print(confusion_matrix(y_test,y_pred))"
      ],
      "execution_count": 128,
      "outputs": [
        {
          "output_type": "stream",
          "text": [
            "[[ 7  0  0]\n",
            " [ 0 12  1]\n",
            " [ 0  1  9]]\n"
          ],
          "name": "stdout"
        }
      ]
    },
    {
      "metadata": {
        "id": "4U3LExtb5aK8",
        "colab_type": "code",
        "colab": {
          "base_uri": "https://localhost:8080/",
          "height": 151
        },
        "outputId": "42409e80-a2c7-4614-a75a-48dc803bfa40"
      },
      "cell_type": "code",
      "source": [
        "print(classification_report(y_test,y_pred))"
      ],
      "execution_count": 129,
      "outputs": [
        {
          "output_type": "stream",
          "text": [
            "                 precision    recall  f1-score   support\n",
            "\n",
            "    Iris-setosa       1.00      1.00      1.00         7\n",
            "Iris-versicolor       0.92      0.92      0.92        13\n",
            " Iris-virginica       0.90      0.90      0.90        10\n",
            "\n",
            "    avg / total       0.93      0.93      0.93        30\n",
            "\n"
          ],
          "name": "stdout"
        }
      ]
    },
    {
      "metadata": {
        "id": "WHerNqAj5l_w",
        "colab_type": "code",
        "colab": {}
      },
      "cell_type": "code",
      "source": [
        ""
      ],
      "execution_count": 0,
      "outputs": []
    },
    {
      "metadata": {
        "id": "xGRq5FMq6uu5",
        "colab_type": "text"
      },
      "cell_type": "markdown",
      "source": [
        "### **Plotting error for different values of K**"
      ]
    },
    {
      "metadata": {
        "id": "2KvMbBhC63bR",
        "colab_type": "code",
        "colab": {
          "base_uri": "https://localhost:8080/",
          "height": 356
        },
        "outputId": "408b66b1-c93b-446b-b416-a7fbcaaaf1af"
      },
      "cell_type": "code",
      "source": [
        "error=[]\n",
        "for i in range(1,20):\n",
        "  clr=KNeighborsClassifier(n_neighbors=i)\n",
        "  clr.fit(x_train,y_train.ravel())\n",
        "  out=clr.predict(x_test)\n",
        "  error.append(np.mean(out!=y_test))\n",
        "  print(error)"
      ],
      "execution_count": 130,
      "outputs": [
        {
          "output_type": "stream",
          "text": [
            "[0.6466666666666666]\n",
            "[0.6466666666666666, 0.6433333333333333]\n",
            "[0.6466666666666666, 0.6433333333333333, 0.6433333333333333]\n",
            "[0.6466666666666666, 0.6433333333333333, 0.6433333333333333, 0.64]\n",
            "[0.6466666666666666, 0.6433333333333333, 0.6433333333333333, 0.64, 0.6466666666666666]\n",
            "[0.6466666666666666, 0.6433333333333333, 0.6433333333333333, 0.64, 0.6466666666666666, 0.6433333333333333]\n",
            "[0.6466666666666666, 0.6433333333333333, 0.6433333333333333, 0.64, 0.6466666666666666, 0.6433333333333333, 0.6466666666666666]\n",
            "[0.6466666666666666, 0.6433333333333333, 0.6433333333333333, 0.64, 0.6466666666666666, 0.6433333333333333, 0.6466666666666666, 0.64]\n",
            "[0.6466666666666666, 0.6433333333333333, 0.6433333333333333, 0.64, 0.6466666666666666, 0.6433333333333333, 0.6466666666666666, 0.64, 0.6433333333333333]\n",
            "[0.6466666666666666, 0.6433333333333333, 0.6433333333333333, 0.64, 0.6466666666666666, 0.6433333333333333, 0.6466666666666666, 0.64, 0.6433333333333333, 0.64]\n",
            "[0.6466666666666666, 0.6433333333333333, 0.6433333333333333, 0.64, 0.6466666666666666, 0.6433333333333333, 0.6466666666666666, 0.64, 0.6433333333333333, 0.64, 0.64]\n",
            "[0.6466666666666666, 0.6433333333333333, 0.6433333333333333, 0.64, 0.6466666666666666, 0.6433333333333333, 0.6466666666666666, 0.64, 0.6433333333333333, 0.64, 0.64, 0.64]\n",
            "[0.6466666666666666, 0.6433333333333333, 0.6433333333333333, 0.64, 0.6466666666666666, 0.6433333333333333, 0.6466666666666666, 0.64, 0.6433333333333333, 0.64, 0.64, 0.64, 0.6466666666666666]\n",
            "[0.6466666666666666, 0.6433333333333333, 0.6433333333333333, 0.64, 0.6466666666666666, 0.6433333333333333, 0.6466666666666666, 0.64, 0.6433333333333333, 0.64, 0.64, 0.64, 0.6466666666666666, 0.6466666666666666]\n",
            "[0.6466666666666666, 0.6433333333333333, 0.6433333333333333, 0.64, 0.6466666666666666, 0.6433333333333333, 0.6466666666666666, 0.64, 0.6433333333333333, 0.64, 0.64, 0.64, 0.6466666666666666, 0.6466666666666666, 0.6466666666666666]\n",
            "[0.6466666666666666, 0.6433333333333333, 0.6433333333333333, 0.64, 0.6466666666666666, 0.6433333333333333, 0.6466666666666666, 0.64, 0.6433333333333333, 0.64, 0.64, 0.64, 0.6466666666666666, 0.6466666666666666, 0.6466666666666666, 0.6466666666666666]\n",
            "[0.6466666666666666, 0.6433333333333333, 0.6433333333333333, 0.64, 0.6466666666666666, 0.6433333333333333, 0.6466666666666666, 0.64, 0.6433333333333333, 0.64, 0.64, 0.64, 0.6466666666666666, 0.6466666666666666, 0.6466666666666666, 0.6466666666666666, 0.6466666666666666]\n",
            "[0.6466666666666666, 0.6433333333333333, 0.6433333333333333, 0.64, 0.6466666666666666, 0.6433333333333333, 0.6466666666666666, 0.64, 0.6433333333333333, 0.64, 0.64, 0.64, 0.6466666666666666, 0.6466666666666666, 0.6466666666666666, 0.6466666666666666, 0.6466666666666666, 0.6466666666666666]\n",
            "[0.6466666666666666, 0.6433333333333333, 0.6433333333333333, 0.64, 0.6466666666666666, 0.6433333333333333, 0.6466666666666666, 0.64, 0.6433333333333333, 0.64, 0.64, 0.64, 0.6466666666666666, 0.6466666666666666, 0.6466666666666666, 0.6466666666666666, 0.6466666666666666, 0.6466666666666666, 0.65]\n"
          ],
          "name": "stdout"
        }
      ]
    },
    {
      "metadata": {
        "id": "cLUiMC5V9qMU",
        "colab_type": "code",
        "colab": {
          "base_uri": "https://localhost:8080/",
          "height": 376
        },
        "outputId": "5698e5ec-f822-4ccb-8aa5-628d1bddadf6"
      },
      "cell_type": "code",
      "source": [
        "plt.title(\"Error for different K\")\n",
        "plt.xlabel(\"K values\")\n",
        "plt.ylabel(\"Mean error\")\n",
        "plt.plot(range(1,20),error,linestyle='dashed',marker='v')\n",
        "plt.show()"
      ],
      "execution_count": 131,
      "outputs": [
        {
          "output_type": "display_data",
          "data": {
            "image/png": "[encoded data removed]",
            "text/plain": [
              "<matplotlib.figure.Figure at 0x7f630ffd9b38>"
            ]
          },
          "metadata": {
            "tags": []
          }
        }
      ]
    },
    {
      "metadata": {
        "id": "lH4HLEgU-nwh",
        "colab_type": "code",
        "colab": {
          "base_uri": "https://localhost:8080/",
          "height": 34
        },
        "outputId": "02a95cd7-b674-437d-bc49-5370ab492aea"
      },
      "cell_type": "code",
      "source": [
        "print(\"the best k value in the range of 1 to 20 is {}\".format(np.argmin(error)))"
      ],
      "execution_count": 132,
      "outputs": [
        {
          "output_type": "stream",
          "text": [
            "the best k value in the range of 1 to 20 is 3\n"
          ],
          "name": "stdout"
        }
      ]
    },
    {
      "metadata": {
        "id": "cl4qwC7o_M_L",
        "colab_type": "code",
        "colab": {}
      },
      "cell_type": "code",
      "source": [
        ""
      ],
      "execution_count": 0,
      "outputs": []
    }
  ]
}