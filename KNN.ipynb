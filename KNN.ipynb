{
  "nbformat": 4,
  "nbformat_minor": 0,
  "metadata": {
    "colab": {
      "name": "KNN.ipynb",
      "version": "0.3.2",
      "provenance": [],
      "collapsed_sections": [
        "PWt3jSCNpibw",
        "3QJCtn7kppiN",
        "FUkMnuHDqkUl",
        "NuIfrKmEqzi4",
        "LXuKH4Zxq4WI",
        "xGRq5FMq6uu5"
      ],
      "include_colab_link": true
    },
    "kernelspec": {
      "name": "python3",
      "display_name": "Python 3"
    }
  },
  "cells": [
    {
      "cell_type": "markdown",
      "metadata": {
        "id": "view-in-github",
        "colab_type": "text"
      },
      "source": [
        "<a href=\"https://colab.research.google.com/github/berserker1/M/blob/master/KNN.ipynb\" target=\"_parent\"><img src=\"https://colab.research.google.com/assets/colab-badge.svg\" alt=\"Open In Colab\"/></a>"
      ]
    },
    {
      "metadata": {
        "id": "PWt3jSCNpibw",
        "colab_type": "text"
      },
      "cell_type": "markdown",
      "source": [
        "# **Importing Libraries**"
      ]
    },
    {
      "metadata": {
        "id": "egLVU11Ca9Uj",
        "colab_type": "code",
        "colab": {}
      },
      "cell_type": "code",
      "source": [
        "import pandas as pd\n",
        "import numpy as np\n",
        "import matplotlib.pyplot as plt\n",
        "from sklearn.model_selection import train_test_split\n",
        "from sklearn.preprocessing import StandardScaler\n",
        "from sklearn.neighbors import KNeighborsClassifier\n",
        "from sklearn.metrics import classification_report, confusion_matrix"
      ],
      "execution_count": 0,
      "outputs": []
    },
    {
      "metadata": {
        "id": "3QJCtn7kppiN",
        "colab_type": "text"
      },
      "cell_type": "markdown",
      "source": [
        "# **Obtaining dataset and preprocessing**"
      ]
    },
    {
      "metadata": {
        "id": "kNASABiem-36",
        "colab_type": "code",
        "colab": {}
      },
      "cell_type": "code",
      "source": [
        "url = \"https://archive.ics.uci.edu/ml/machine-learning-databases/iris/iris.data\"\n",
        "names=['sepal-length','sepal-width','petal-length','petal-width','Class']\n",
        "dataset=pd.read_csv(url,names=names)"
      ],
      "execution_count": 0,
      "outputs": []
    },
    {
      "metadata": {
        "id": "T2K87MzCxRj6",
        "colab_type": "code",
        "colab": {}
      },
      "cell_type": "code",
      "source": [
        "param=dataset.iloc[:,0:4].values\n",
        "labels=dataset.iloc[:,4:5].values\n",
        "x_train,x_test,y_train,y_test=train_test_split(param,labels,test_size=0.2)"
      ],
      "execution_count": 0,
      "outputs": []
    },
    {
      "metadata": {
        "id": "FUkMnuHDqkUl",
        "colab_type": "text"
      },
      "cell_type": "markdown",
      "source": [
        "# **Feature Transform**"
      ]
    },
    {
      "metadata": {
        "id": "pEg2Zg8Sxc-m",
        "colab_type": "code",
        "colab": {}
      },
      "cell_type": "code",
      "source": [
        "scalar=StandardScaler()\n",
        "scalar.fit(x_train)\n",
        "x_train=scalar.transform(x_train)\n",
        "x_test=scalar.transform(x_test)"
      ],
      "execution_count": 0,
      "outputs": []
    },
    {
      "metadata": {
        "id": "NuIfrKmEqzi4",
        "colab_type": "text"
      },
      "cell_type": "markdown",
      "source": [
        "# **Applying classifier**"
      ]
    },
    {
      "metadata": {
        "id": "JnAYEK0Nx7iy",
        "colab_type": "code",
        "colab": {}
      },
      "cell_type": "code",
      "source": [
        "classifier=KNeighborsClassifier(n_neighbors=5)\n",
        "classifier.fit(x_train,y_train.ravel())\n",
        "y_pred=classifier.predict(x_test)"
      ],
      "execution_count": 0,
      "outputs": []
    },
    {
      "metadata": {
        "id": "LXuKH4Zxq4WI",
        "colab_type": "text"
      },
      "cell_type": "markdown",
      "source": [
        "# **Printing confusion matrix and classification report**"
      ]
    },
    {
      "metadata": {
        "id": "0WKWTyR8yEQp",
        "colab_type": "code",
        "outputId": "c07c6869-9d8c-4a83-aaff-a224d4f44339",
        "colab": {
          "base_uri": "https://localhost:8080/",
          "height": 67
        }
      },
      "cell_type": "code",
      "source": [
        "print(confusion_matrix(y_test,y_pred))"
      ],
      "execution_count": 16,
      "outputs": [
        {
          "output_type": "stream",
          "text": [
            "[[ 7  0  0]\n",
            " [ 0 14  0]\n",
            " [ 0  1  8]]\n"
          ],
          "name": "stdout"
        }
      ]
    },
    {
      "metadata": {
        "id": "4U3LExtb5aK8",
        "colab_type": "code",
        "outputId": "1a5ecc7c-95bd-433c-dc6a-98c498219a71",
        "colab": {
          "base_uri": "https://localhost:8080/",
          "height": 151
        }
      },
      "cell_type": "code",
      "source": [
        "print(classification_report(y_test,y_pred))"
      ],
      "execution_count": 17,
      "outputs": [
        {
          "output_type": "stream",
          "text": [
            "                 precision    recall  f1-score   support\n",
            "\n",
            "    Iris-setosa       1.00      1.00      1.00         7\n",
            "Iris-versicolor       0.93      1.00      0.97        14\n",
            " Iris-virginica       1.00      0.89      0.94         9\n",
            "\n",
            "    avg / total       0.97      0.97      0.97        30\n",
            "\n"
          ],
          "name": "stdout"
        }
      ]
    },
    {
      "metadata": {
        "id": "xGRq5FMq6uu5",
        "colab_type": "text"
      },
      "cell_type": "markdown",
      "source": [
        "# **Plotting error for different values of K and obtaining best value**"
      ]
    },
    {
      "metadata": {
        "id": "2KvMbBhC63bR",
        "colab_type": "code",
        "colab": {}
      },
      "cell_type": "code",
      "source": [
        "error=[]\n",
        "for i in range(1,20):\n",
        "  clr=KNeighborsClassifier(n_neighbors=i)\n",
        "  clr.fit(x_train,y_train.ravel())\n",
        "  out=clr.predict(x_test)\n",
        "  error.append(np.mean(out!=y_test))\n",
        "  print(error)"
      ],
      "execution_count": 0,
      "outputs": []
    },
    {
      "metadata": {
        "id": "cLUiMC5V9qMU",
        "colab_type": "code",
        "outputId": "87dad59b-f5da-412b-b803-d229f2f0f0b5",
        "colab": {
          "base_uri": "https://localhost:8080/",
          "height": 376
        }
      },
      "cell_type": "code",
      "source": [
        "plt.title(\"Error for different K\")\n",
        "plt.xlabel(\"K values\")\n",
        "plt.ylabel(\"Mean error\")\n",
        "plt.plot(range(1,20),error,linestyle='dashed',marker='v')\n",
        "plt.show()"
      ],
      "execution_count": 19,
      "outputs": [
        {
          "output_type": "display_data",
          "data": {
            "image/png": "[encoded data removed]",
            "text/plain": [
              "<matplotlib.figure.Figure at 0x7f356d633240>"
            ]
          },
          "metadata": {
            "tags": []
          }
        }
      ]
    },
    {
      "metadata": {
        "id": "lH4HLEgU-nwh",
        "colab_type": "code",
        "outputId": "91e6cd74-66cb-4228-aa56-9cbb0cc4b37a",
        "colab": {
          "base_uri": "https://localhost:8080/",
          "height": 34
        }
      },
      "cell_type": "code",
      "source": [
        "print(\"the best k value in the range of 1 to 20 is {}\".format(np.argmin(error)+1))"
      ],
      "execution_count": 20,
      "outputs": [
        {
          "output_type": "stream",
          "text": [
            "the best k value in the range of 1 to 20 is 2\n"
          ],
          "name": "stdout"
        }
      ]
    },
    {
      "metadata": {
        "id": "zEsZXjh3pA5Z",
        "colab_type": "code",
        "colab": {}
      },
      "cell_type": "code",
      "source": [
        ""
      ],
      "execution_count": 0,
      "outputs": []
    }
  ]
}