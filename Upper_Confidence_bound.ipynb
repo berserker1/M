{
  "nbformat": 4,
  "nbformat_minor": 0,
  "metadata": {
    "colab": {
      "name": "Upper Confidence bound.ipynb",
      "version": "0.3.2",
      "provenance": [],
      "collapsed_sections": [],
      "include_colab_link": true
    },
    "kernelspec": {
      "name": "python3",
      "display_name": "Python 3"
    }
  },
  "cells": [
    {
      "cell_type": "markdown",
      "metadata": {
        "id": "view-in-github",
        "colab_type": "text"
      },
      "source": [
        "<a href=\"https://colab.research.google.com/github/berserker1/M/blob/master/Upper_Confidence_bound.ipynb\" target=\"_parent\"><img src=\"https://colab.research.google.com/assets/colab-badge.svg\" alt=\"Open In Colab\"/></a>"
      ]
    },
    {
      "metadata": {
        "id": "xxzS3RePizKy",
        "colab_type": "text"
      },
      "cell_type": "markdown",
      "source": [
        "# **Importing Libraries**"
      ]
    },
    {
      "metadata": {
        "id": "YV-fzImS0rXJ",
        "colab_type": "code",
        "colab": {}
      },
      "cell_type": "code",
      "source": [
        "import pandas as pd\n",
        "import numpy as np\n",
        "import matplotlib.pyplot as plt\n",
        "from google.colab import files\n",
        "import math"
      ],
      "execution_count": 0,
      "outputs": []
    },
    {
      "metadata": {
        "id": "V5m_HJ8ji6hG",
        "colab_type": "text"
      },
      "cell_type": "markdown",
      "source": [
        "# **Uploading data and preprocessing**"
      ]
    },
    {
      "metadata": {
        "id": "pvlGwn9t02c3",
        "colab_type": "code",
        "colab": {}
      },
      "cell_type": "code",
      "source": [
        "files.upload()"
      ],
      "execution_count": 0,
      "outputs": []
    },
    {
      "metadata": {
        "id": "V84LlqUD06gH",
        "colab_type": "code",
        "colab": {}
      },
      "cell_type": "code",
      "source": [
        "data=pd.read_csv('Ads_CTR_Optimisation.csv')"
      ],
      "execution_count": 0,
      "outputs": []
    },
    {
      "metadata": {
        "id": "1Q_cVLRNi_2E",
        "colab_type": "text"
      },
      "cell_type": "markdown",
      "source": [
        "# **Writing Algorithm**"
      ]
    },
    {
      "metadata": {
        "id": "zC-W3bog9gdT",
        "colab_type": "code",
        "colab": {}
      },
      "cell_type": "code",
      "source": [
        "Total_rows=10000\n",
        "Num_of_bandits=10\n",
        "selected_ads=[]\n",
        "sums_till_now=np.zeros(Num_of_bandits)\n",
        "selections_till_now=np.zeros(Num_of_bandits)\n",
        "total_ans=0\n",
        "for n in range(1,Total_rows+1):\n",
        "  max_bound=0\n",
        "  ad=0\n",
        "  bound\n",
        "  for i in range(0,Num_of_bandits):\n",
        "    if(selections_till_now[i]>0):\n",
        "      average=sums_till_now[i]/selections_till_now[i]\n",
        "      change_i=math.sqrt(1.5*math.log(n)/selections_till_now[i])\n",
        "      bound=average+change_i\n",
        "    else:\n",
        "      bound=1e200\n",
        "    if(bound>max_bound):\n",
        "      max_bound=bound\n",
        "      ad=i\n",
        "  selected_ads.append(ad)\n",
        "  selections_till_now[ad]=selections_till_now[ad]+1\n",
        "  sums_till_now[ad]=sums_till_now[ad]+data.values[n-1,ad]\n",
        "  total_ans=total_ans+data.values[n-1,ad]\n",
        "    "
      ],
      "execution_count": 0,
      "outputs": []
    },
    {
      "metadata": {
        "id": "xyw8-r98jICk",
        "colab_type": "text"
      },
      "cell_type": "markdown",
      "source": [
        "# **Printing total optimal award and the pattern for selecting**"
      ]
    },
    {
      "metadata": {
        "id": "M7dTRcQEL3HX",
        "colab_type": "code",
        "colab": {
          "base_uri": "https://localhost:8080/",
          "height": 34
        },
        "outputId": "97122d14-d0b8-45ed-de3f-7657b91bb321"
      },
      "cell_type": "code",
      "source": [
        "print(total_ans)"
      ],
      "execution_count": 52,
      "outputs": [
        {
          "output_type": "stream",
          "text": [
            "2178\n"
          ],
          "name": "stdout"
        }
      ]
    },
    {
      "metadata": {
        "id": "2jYT6_q-Ni_l",
        "colab_type": "code",
        "colab": {}
      },
      "cell_type": "code",
      "source": [
        "print(selected_ads)"
      ],
      "execution_count": 0,
      "outputs": []
    },
    {
      "metadata": {
        "id": "jamkMtfCjX1Y",
        "colab_type": "text"
      },
      "cell_type": "markdown",
      "source": [
        "## **Plotting histogram of type of ads**"
      ]
    },
    {
      "metadata": {
        "id": "gBY1sgLIjHHn",
        "colab_type": "code",
        "colab": {}
      },
      "cell_type": "code",
      "source": [
        "plt.hist(selected_ads)\n",
        "plt.title(\"Histogram of ads selections\")\n",
        "plt.xlabel(\"Ads\")\n",
        "plt.ylabel(\"Selection of each ad\")\n",
        "plt.show()"
      ],
      "execution_count": 0,
      "outputs": []
    },
    {
      "metadata": {
        "id": "B62zYxMhjhxs",
        "colab_type": "code",
        "colab": {}
      },
      "cell_type": "code",
      "source": [
        ""
      ],
      "execution_count": 0,
      "outputs": []
    }
  ]
}